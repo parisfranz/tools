{
 "cells": [
  {
   "cell_type": "code",
   "execution_count": 1,
   "metadata": {},
   "outputs": [],
   "source": [
    "%load_ext autoreload\n",
    "%autoreload 2"
   ]
  },
  {
   "cell_type": "code",
   "execution_count": 2,
   "metadata": {
    "scrolled": true
   },
   "outputs": [],
   "source": [
    "import matplotlib as plt\n",
    "import numpy as np\n",
    "import cv2"
   ]
  },
  {
   "cell_type": "code",
   "execution_count": 370,
   "metadata": {},
   "outputs": [
    {
     "name": "stderr",
     "output_type": "stream",
     "text": [
      "Traceback (most recent call last):\n",
      "  File \"/Users/parisfranz/opt/anaconda3/envs/toolsenv/lib/python3.10/site-packages/matplotlib/cbook/__init__.py\", line 287, in process\n",
      "    func(*args, **kwargs)\n",
      "  File \"/var/folders/2f/l6_9jghj4fx93xhgtkhvfr8m0000gn/T/ipykernel_75624/333334048.py\", line 12, in get_pt_onclick\n",
      "    rgba = event.inaxes.get_images()[0].get_cursor_data(event).data\n",
      "AttributeError: 'NoneType' object has no attribute 'get_images'\n"
     ]
    }
   ],
   "source": [
    "%matplotlib tk\n",
    "import matplotlib.pyplot as plt\n",
    "import matplotlib.image as mpimg\n",
    "\n",
    "\n",
    "\n",
    "img=mpimg.imread('IMG_1830.png')\n",
    "\n",
    "def get_pt_onclick(event):\n",
    "    global ix,iy, rgba\n",
    "    ix, iy = event.xdata,event.ydata\n",
    "    rgba = event.inaxes.get_images()[0].get_cursor_data(event).data\n",
    "    print(ix, iy)\n",
    "    \n",
    "def get_pts_manual(event):\n",
    "    global ix,iy, pts_manual\n",
    "    if event.key == 'm':\n",
    "        pts_manual.append([ix,iy])\n",
    "\n",
    "\n",
    "def cal_points(event): \n",
    "    fig.canvas.draw_idle()\n",
    "    global ix,iy, calpts\n",
    "    if len(calpts)<4:\n",
    "        #print(event.key)\n",
    "        if event.key == 'enter':\n",
    "            calpts.append([ix,iy])\n",
    "            plt.plot(ix,iy, 'rx')\n",
    "#             if len(calpts)>=4:\n",
    "#                 plt.close(plt.gcf())\n",
    "\n",
    "\n",
    "def bound_points(event): \n",
    "    fig.canvas.draw_idle()\n",
    "    global ix,iy, boundpts\n",
    "    if len(boundpts)<4:\n",
    "        #print(event.key)\n",
    "        if event.key == 'b':\n",
    "            boundpts.append([ix,iy])\n",
    "            plt.plot(ix,iy, 'gx')\n",
    "\n",
    "                \n",
    "def line_color(event):\n",
    "    global ix,iy,rgba,line_col\n",
    "    if event.key == '-':\n",
    "        print(event.key)\n",
    "        line_col = rgba \n",
    "        \n",
    "def mouse_eraser(event):\n",
    "    global ix,iy, pts\n",
    "    if event.key == ' ':\n",
    "        plt.plot(ix,iy, 'bx') \n",
    "        try:\n",
    "            idx = np.where(((pts[0,:] - ix)**2 + (pts[1,:] - iy)**2)<300)[0]\n",
    "            pts[:, idx] = 0\n",
    "        except:\n",
    "            print('bleh')\n",
    "        \n",
    "\n",
    "fig = plt.figure(figsize=(10,15))\n",
    "cid = fig.canvas.mpl_connect('button_press_event', get_pt_onclick)\n",
    "kid = fig.canvas.mpl_connect('key_press_event', cal_points)\n",
    "bid = fig.canvas.mpl_connect('key_press_event', bound_points)\n",
    "lid = fig.canvas.mpl_connect('key_press_event', line_color)\n",
    "eid = fig.canvas.mpl_connect('key_press_event', mouse_eraser)\n",
    "mid = fig.canvas.mpl_connect('key_press_event', get_pts_manual)"
   ]
  },
  {
   "cell_type": "code",
   "execution_count": 328,
   "metadata": {},
   "outputs": [
    {
     "data": {
      "text/plain": [
       "(2, 5718)"
      ]
     },
     "execution_count": 328,
     "metadata": {},
     "output_type": "execute_result"
    }
   ],
   "source": [
    "pts.shape"
   ]
  },
  {
   "cell_type": "code",
   "execution_count": null,
   "metadata": {},
   "outputs": [],
   "source": []
  },
  {
   "cell_type": "code",
   "execution_count": 371,
   "metadata": {},
   "outputs": [
    {
     "name": "stdout",
     "output_type": "stream",
     "text": [
      "1836.0109677419352 198.8108645161292\n"
     ]
    }
   ],
   "source": [
    "# ix,iy = 0,0\n",
    "# line_col = [0,0,0,0]\n",
    "# calpts = []\n",
    "# boundpts = []\n",
    "#pts = np.copy(mask2)\n",
    "pts_manual = []\n",
    "imgplot = plt.imshow(img)\n",
    "plt.gca().plot([300,300], 'ro')\n",
    "plt.show()"
   ]
  },
  {
   "cell_type": "code",
   "execution_count": 223,
   "metadata": {},
   "outputs": [
    {
     "data": {
      "text/plain": [
       "[[2234.9330825465363, 1482.8321012098063],\n",
       " [3548.1828855109493, 1475.6362118784944],\n",
       " [1921.9118966344706, 1482.8321012098063],\n",
       " [1918.3139519688148, 619.3253814523837]]"
      ]
     },
     "execution_count": 223,
     "metadata": {},
     "output_type": "execute_result"
    }
   ],
   "source": [
    "calpts\n",
    "# plt.gcf().canvas.mpl_connect('button_press_event', onclick)\n",
    "# plt.gcf().canvas.mpl_connect('key_press_event', cal_points)"
   ]
  },
  {
   "cell_type": "code",
   "execution_count": 224,
   "metadata": {},
   "outputs": [
    {
     "data": {
      "text/plain": [
       "[[2110.8039915814065, 1452.2495715517307],\n",
       " [3591.35822149882, 1443.254709887591],\n",
       " [2103.608102250095, 1051.078741331095],\n",
       " [3575.1674705033683, 1022.2951840058475]]"
      ]
     },
     "execution_count": 224,
     "metadata": {},
     "output_type": "execute_result"
    }
   ],
   "source": [
    "boundpts #[x, y]"
   ]
  },
  {
   "cell_type": "code",
   "execution_count": 228,
   "metadata": {},
   "outputs": [],
   "source": [
    "mask = np.sum((img - np.tile(line_col,(img.shape[0],img.shape[1],1)))**2, axis = 2)"
   ]
  },
  {
   "cell_type": "code",
   "execution_count": 229,
   "metadata": {},
   "outputs": [
    {
     "data": {
      "text/plain": [
       "<matplotlib.colorbar.Colorbar at 0x7ff5437811b0>"
      ]
     },
     "execution_count": 229,
     "metadata": {},
     "output_type": "execute_result"
    }
   ],
   "source": [
    "plt.figure(2)\n",
    "plt.imshow(mask)\n",
    "plt.colorbar()"
   ]
  },
  {
   "cell_type": "code",
   "execution_count": 273,
   "metadata": {},
   "outputs": [],
   "source": [
    "mask2 = np.copy(mask)\n",
    "mask2[mask2>0.02] = 0\n",
    "plt.figure(3)\n",
    "plt.imshow(mask2, cmap = 'inferno_r')\n",
    "plt.colorbar()\n",
    "plt.show()"
   ]
  },
  {
   "cell_type": "code",
   "execution_count": 206,
   "metadata": {},
   "outputs": [],
   "source": [
    "plt.figure(4)\n",
    "plt.hist(mask2.flatten(), bins = 100)\n",
    "plt.xlim(0,0.051)\n",
    "plt.ylim(0,1e5)\n",
    "plt.show()"
   ]
  },
  {
   "cell_type": "code",
   "execution_count": 263,
   "metadata": {},
   "outputs": [],
   "source": [
    "X,Y=np.meshgrid(np.arange(mask2.shape[1]),np.arange(mask2.shape[0]))"
   ]
  },
  {
   "cell_type": "code",
   "execution_count": 241,
   "metadata": {},
   "outputs": [
    {
     "data": {
      "text/plain": [
       "(3024, 4032)"
      ]
     },
     "execution_count": 241,
     "metadata": {},
     "output_type": "execute_result"
    }
   ],
   "source": [
    "mask2.shape"
   ]
  },
  {
   "cell_type": "code",
   "execution_count": 269,
   "metadata": {},
   "outputs": [],
   "source": [
    "bb = np.array(boundpts)\n",
    "x0 = np.min(bb[:, 0]) #x\n",
    "y0 = np.max(bb[:, 1]) #y\n",
    "x1 = np.max(bb[:, 0]) #x\n",
    "y1 = np.min(bb[:, 1]) #y\n",
    "roi = np.zeros(mask2.shape)\n",
    "roi[np.where((x0<X) & (y0>Y) & (x1>X) & (y1<Y))[0],np.where((x0<X) & (y0>Y) & (x1>X) & (y1<Y))[1]] = 1\n"
   ]
  },
  {
   "cell_type": "code",
   "execution_count": 274,
   "metadata": {},
   "outputs": [],
   "source": [
    "plt.figure(88)\n",
    "plt.imshow(roi*mask2)\n",
    "plt.show()"
   ]
  },
  {
   "cell_type": "code",
   "execution_count": 385,
   "metadata": {},
   "outputs": [
    {
     "data": {
      "text/plain": [
       "[<matplotlib.lines.Line2D at 0x7ff4760427d0>]"
      ]
     },
     "execution_count": 385,
     "metadata": {},
     "output_type": "execute_result"
    }
   ],
   "source": [
    "plt.figure(90)\n",
    "plt.imshow(mask2*roi)\n",
    "plt.colorbar()\n",
    "plt.show()\n",
    "plt.figure(1)\n",
    "pts = np.array([np.where(mask2*roi>0)[1],np.where(mask2*roi>0)[0]])\n",
    "plt.plot(pts[0,:], pts[1,:], 'rx')"
   ]
  },
  {
   "cell_type": "code",
   "execution_count": 386,
   "metadata": {},
   "outputs": [],
   "source": [
    "pts = np.hstack((pts,np.array(pts_manual).T))\n",
    "pts = np.vstack((pts[0,:][(pts[0,:]>x0)&(pts[1,:]<y0)],pts[1,:][(pts[0,:]>x0)&(pts[1,:]<y0)]))\n",
    "plt.figure(1)\n",
    "plt.plot(pts[0,:], pts[1,:], 'gx')\n",
    "plt.show()"
   ]
  },
  {
   "cell_type": "code",
   "execution_count": null,
   "metadata": {},
   "outputs": [],
   "source": [
    "#Add in interpolation"
   ]
  },
  {
   "cell_type": "code",
   "execution_count": 387,
   "metadata": {},
   "outputs": [],
   "source": [
    "plt.figure(11)\n",
    "plt.plot(pts[0,:], pts[1,:], 'o')\n",
    "plt.show()"
   ]
  },
  {
   "cell_type": "code",
   "execution_count": 374,
   "metadata": {},
   "outputs": [
    {
     "data": {
      "text/plain": [
       "0.0"
      ]
     },
     "execution_count": 374,
     "metadata": {},
     "output_type": "execute_result"
    }
   ],
   "source": [
    "np.min(pts[0,:])"
   ]
  },
  {
   "cell_type": "code",
   "execution_count": 373,
   "metadata": {},
   "outputs": [
    {
     "data": {
      "text/plain": [
       "0.0"
      ]
     },
     "execution_count": 373,
     "metadata": {},
     "output_type": "execute_result"
    }
   ],
   "source": [
    "np.min(pts[1,:])"
   ]
  },
  {
   "cell_type": "code",
   "execution_count": 384,
   "metadata": {},
   "outputs": [
    {
     "data": {
      "text/plain": [
       "1452.2495715517307"
      ]
     },
     "execution_count": 384,
     "metadata": {},
     "output_type": "execute_result"
    }
   ],
   "source": [
    "y0"
   ]
  },
  {
   "cell_type": "code",
   "execution_count": null,
   "metadata": {},
   "outputs": [],
   "source": []
  },
  {
   "cell_type": "code",
   "execution_count": 179,
   "metadata": {},
   "outputs": [],
   "source": [
    "Y,X=np.meshgrid(np.arange(mask2.shape[0]),np.arange(mask2.shape[1]))"
   ]
  },
  {
   "cell_type": "code",
   "execution_count": 185,
   "metadata": {},
   "outputs": [
    {
     "data": {
      "text/plain": [
       "array([[   0,    0,    0, ...,    0,    0,    0],\n",
       "       [   1,    1,    1, ...,    1,    1,    1],\n",
       "       [   2,    2,    2, ...,    2,    2,    2],\n",
       "       ...,\n",
       "       [4029, 4029, 4029, ..., 4029, 4029, 4029],\n",
       "       [4030, 4030, 4030, ..., 4030, 4030, 4030],\n",
       "       [4031, 4031, 4031, ..., 4031, 4031, 4031]])"
      ]
     },
     "execution_count": 185,
     "metadata": {},
     "output_type": "execute_result"
    }
   ],
   "source": [
    "Y"
   ]
  },
  {
   "cell_type": "code",
   "execution_count": null,
   "metadata": {},
   "outputs": [],
   "source": []
  },
  {
   "cell_type": "code",
   "execution_count": 102,
   "metadata": {},
   "outputs": [
    {
     "data": {
      "text/plain": [
       "array([0.52156866, 0.6117647 , 0.6901961 , 1.        ], dtype=float32)"
      ]
     },
     "execution_count": 102,
     "metadata": {},
     "output_type": "execute_result"
    }
   ],
   "source": [
    "line_col.data"
   ]
  },
  {
   "cell_type": "code",
   "execution_count": 210,
   "metadata": {},
   "outputs": [],
   "source": [
    "\n",
    "plt.show()"
   ]
  },
  {
   "cell_type": "code",
   "execution_count": 5,
   "metadata": {
    "scrolled": true
   },
   "outputs": [
    {
     "name": "stdout",
     "output_type": "stream",
     "text": [
      "Digitizer.ipynb  IMG_1830.HEIC    IMG_1830.png     README.md\r\n"
     ]
    }
   ],
   "source": [
    "# Coordinates that you want to Perspective Transform\n",
    "pts1 = np.float32([[0,0],\\\n",
    "                   [0,1024],\\\n",
    "                   [1024,0],\\\n",
    "                   [1024, 1024]])\n",
    "\n",
    "\n",
    "# Size of the Transformed Image\n",
    "pts2 = np.float32([[0+xshift + dd2,0 + yshift],\\\n",
    "                   [0+xshift,1024 + yshift],\\\n",
    "                   [1024+xshift + dd,0 + yshift],\\\n",
    "                   [1024+xshift,1024 + yshift]])\n",
    "\n",
    "MM = cv2.getPerspectiveTransform(pts1,pts2)"
   ]
  },
  {
   "cell_type": "code",
   "execution_count": null,
   "metadata": {},
   "outputs": [],
   "source": []
  },
  {
   "cell_type": "code",
   "execution_count": 14,
   "metadata": {},
   "outputs": [
    {
     "data": {
      "text/plain": [
       "(3024, 4032, 4)"
      ]
     },
     "execution_count": 14,
     "metadata": {},
     "output_type": "execute_result"
    }
   ],
   "source": [
    "img.shape"
   ]
  },
  {
   "cell_type": "code",
   "execution_count": null,
   "metadata": {},
   "outputs": [],
   "source": []
  },
  {
   "cell_type": "code",
   "execution_count": null,
   "metadata": {},
   "outputs": [],
   "source": []
  }
 ],
 "metadata": {
  "kernelspec": {
   "display_name": "Python 3 (ipykernel)",
   "language": "python",
   "name": "python3"
  },
  "language_info": {
   "codemirror_mode": {
    "name": "ipython",
    "version": 3
   },
   "file_extension": ".py",
   "mimetype": "text/x-python",
   "name": "python",
   "nbconvert_exporter": "python",
   "pygments_lexer": "ipython3",
   "version": "3.10.6"
  }
 },
 "nbformat": 4,
 "nbformat_minor": 4
}
