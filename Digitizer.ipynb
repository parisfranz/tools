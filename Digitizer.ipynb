{
 "cells": [
  {
   "cell_type": "code",
   "execution_count": 1,
   "metadata": {},
   "outputs": [],
   "source": [
    "%load_ext autoreload\n",
    "%autoreload 2"
   ]
  },
  {
   "cell_type": "code",
   "execution_count": 2,
   "metadata": {
    "scrolled": true
   },
   "outputs": [],
   "source": [
    "import matplotlib as plt\n",
    "import numpy as np\n",
    "import cv2"
   ]
  },
  {
   "cell_type": "code",
   "execution_count": 125,
   "metadata": {},
   "outputs": [],
   "source": [
    "%matplotlib tk\n",
    "import matplotlib.pyplot as plt\n",
    "import matplotlib.image as mpimg\n",
    "\n",
    "\n",
    "\n",
    "img=mpimg.imread('IMG_1830.png')\n",
    "\n",
    "def get_pt_onclick(event):\n",
    "    global ix,iy, rgba\n",
    "    ix, iy = event.xdata,event.ydata\n",
    "    rgba = event.inaxes.get_images()[0].get_cursor_data(event).data\n",
    "    print(ix, iy)\n",
    "\n",
    "\n",
    "\n",
    "def cal_points(event): \n",
    "    fig.canvas.draw_idle()\n",
    "    global ix,iy, calpts\n",
    "    if len(calpts)<4:\n",
    "        #print(event.key)\n",
    "        if event.key == 'enter':\n",
    "            calpts.append([ix,iy])\n",
    "            plt.plot(ix,iy, 'rx')\n",
    "#             if len(calpts)>=4:\n",
    "#                 plt.close(plt.gcf())\n",
    "                \n",
    "def line_color(event):\n",
    "    global ix,iy,rgba,line_col\n",
    "    if event.key == '-':\n",
    "        print(event.key)\n",
    "        line_col = rgba \n",
    "        \n",
    "def mouse_eraser(event):\n",
    "    global ix,iy, pts\n",
    "    if event.key == ' ':\n",
    "        plt.plot(ix,iy, 'bx')\n",
    "\n",
    "fig = plt.figure(figsize=(10,15))\n",
    "cid = fig.canvas.mpl_connect('button_press_event', get_pt_onclick)\n",
    "kid = fig.canvas.mpl_connect('key_press_event', cal_points)\n",
    "lid = fig.canvas.mpl_connect('key_press_event', line_color)\n"
   ]
  },
  {
   "cell_type": "code",
   "execution_count": 126,
   "metadata": {},
   "outputs": [],
   "source": [
    "ix,iy = 0,0\n",
    "line_col = [0,0,0,0]\n",
    "calpts = []\n",
    "pts = \n",
    "imgplot = plt.imshow(img)\n",
    "plt.gca().plot([300,300], 'ro')\n",
    "plt.show()"
   ]
  },
  {
   "cell_type": "code",
   "execution_count": 91,
   "metadata": {},
   "outputs": [
    {
     "data": {
      "text/plain": [
       "[[2235.689995421436, 1483.1808766867855],\n",
       " [3293.015494693029, 1475.7697166451621],\n",
       " [1924.421273673257, 1396.7173428678468],\n",
       " [1917.0101136316337, 705.0090723163378]]"
      ]
     },
     "execution_count": 91,
     "metadata": {},
     "output_type": "execute_result"
    }
   ],
   "source": [
    "calpts\n",
    "# plt.gcf().canvas.mpl_connect('button_press_event', onclick)\n",
    "# plt.gcf().canvas.mpl_connect('key_press_event', cal_points)"
   ]
  },
  {
   "cell_type": "code",
   "execution_count": 120,
   "metadata": {},
   "outputs": [],
   "source": [
    "mask = np.sum((img - np.tile(line_col,(img.shape[0],img.shape[1],1)))**2, axis = 2)"
   ]
  },
  {
   "cell_type": "code",
   "execution_count": 153,
   "metadata": {},
   "outputs": [
    {
     "data": {
      "text/plain": [
       "<matplotlib.colorbar.Colorbar at 0x7ff6602cd900>"
      ]
     },
     "execution_count": 153,
     "metadata": {},
     "output_type": "execute_result"
    }
   ],
   "source": [
    "plt.figure(2)\n",
    "plt.imshow(mask)\n",
    "plt.colorbar()"
   ]
  },
  {
   "cell_type": "code",
   "execution_count": 154,
   "metadata": {},
   "outputs": [],
   "source": [
    "mask2 = np.copy(mask)\n",
    "mask2[mask2>0.05] = 1\n",
    "plt.figure(3)\n",
    "plt.imshow(mask2, cmap = 'inferno_r')\n",
    "plt.colorbar()\n",
    "plt.show()"
   ]
  },
  {
   "cell_type": "code",
   "execution_count": 158,
   "metadata": {},
   "outputs": [],
   "source": [
    "pts = np.array(np.where((((X - xi)**2) < 1) & +(Y-yi)**2)"
   ]
  },
  {
   "cell_type": "code",
   "execution_count": 179,
   "metadata": {},
   "outputs": [],
   "source": [
    "Y,X=np.meshgrid(np.arange(mask2.shape[0]),np.arange(mask2.shape[1]))"
   ]
  },
  {
   "cell_type": "code",
   "execution_count": 185,
   "metadata": {},
   "outputs": [
    {
     "data": {
      "text/plain": [
       "array([[   0,    0,    0, ...,    0,    0,    0],\n",
       "       [   1,    1,    1, ...,    1,    1,    1],\n",
       "       [   2,    2,    2, ...,    2,    2,    2],\n",
       "       ...,\n",
       "       [4029, 4029, 4029, ..., 4029, 4029, 4029],\n",
       "       [4030, 4030, 4030, ..., 4030, 4030, 4030],\n",
       "       [4031, 4031, 4031, ..., 4031, 4031, 4031]])"
      ]
     },
     "execution_count": 185,
     "metadata": {},
     "output_type": "execute_result"
    }
   ],
   "source": [
    "Y"
   ]
  },
  {
   "cell_type": "code",
   "execution_count": null,
   "metadata": {},
   "outputs": [],
   "source": []
  },
  {
   "cell_type": "code",
   "execution_count": 102,
   "metadata": {},
   "outputs": [
    {
     "data": {
      "text/plain": [
       "array([0.52156866, 0.6117647 , 0.6901961 , 1.        ], dtype=float32)"
      ]
     },
     "execution_count": 102,
     "metadata": {},
     "output_type": "execute_result"
    }
   ],
   "source": [
    "line_col.data"
   ]
  },
  {
   "cell_type": "code",
   "execution_count": 155,
   "metadata": {},
   "outputs": [],
   "source": [
    "plt.figure(2)\n",
    "plt.plot(np.where(mask2<1)[1],np.where(mask2<1)[0], 'rx')\n",
    "plt.show()"
   ]
  },
  {
   "cell_type": "code",
   "execution_count": 5,
   "metadata": {
    "scrolled": true
   },
   "outputs": [
    {
     "name": "stdout",
     "output_type": "stream",
     "text": [
      "Digitizer.ipynb  IMG_1830.HEIC    IMG_1830.png     README.md\r\n"
     ]
    }
   ],
   "source": [
    "# Coordinates that you want to Perspective Transform\n",
    "pts1 = np.float32([[0,0],\\\n",
    "                   [0,1024],\\\n",
    "                   [1024,0],\\\n",
    "                   [1024, 1024]])\n",
    "\n",
    "\n",
    "# Size of the Transformed Image\n",
    "pts2 = np.float32([[0+xshift + dd2,0 + yshift],\\\n",
    "                   [0+xshift,1024 + yshift],\\\n",
    "                   [1024+xshift + dd,0 + yshift],\\\n",
    "                   [1024+xshift,1024 + yshift]])\n",
    "\n",
    "MM = cv2.getPerspectiveTransform(pts1,pts2)"
   ]
  },
  {
   "cell_type": "code",
   "execution_count": null,
   "metadata": {},
   "outputs": [],
   "source": []
  },
  {
   "cell_type": "code",
   "execution_count": 14,
   "metadata": {},
   "outputs": [
    {
     "data": {
      "text/plain": [
       "(3024, 4032, 4)"
      ]
     },
     "execution_count": 14,
     "metadata": {},
     "output_type": "execute_result"
    }
   ],
   "source": [
    "img.shape"
   ]
  },
  {
   "cell_type": "code",
   "execution_count": null,
   "metadata": {},
   "outputs": [],
   "source": []
  },
  {
   "cell_type": "code",
   "execution_count": null,
   "metadata": {},
   "outputs": [],
   "source": []
  }
 ],
 "metadata": {
  "kernelspec": {
   "display_name": "Python 3 (ipykernel)",
   "language": "python",
   "name": "python3"
  },
  "language_info": {
   "codemirror_mode": {
    "name": "ipython",
    "version": 3
   },
   "file_extension": ".py",
   "mimetype": "text/x-python",
   "name": "python",
   "nbconvert_exporter": "python",
   "pygments_lexer": "ipython3",
   "version": "3.10.6"
  }
 },
 "nbformat": 4,
 "nbformat_minor": 4
}
