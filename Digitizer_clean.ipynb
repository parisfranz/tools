{
 "cells": [
  {
   "cell_type": "code",
   "execution_count": 1,
   "id": "605582fc",
   "metadata": {},
   "outputs": [],
   "source": [
    "%load_ext autoreload\n",
    "%autoreload 2"
   ]
  },
  {
   "cell_type": "code",
   "execution_count": 2,
   "id": "b1cfdc73",
   "metadata": {},
   "outputs": [],
   "source": [
    "import matplotlib as plt\n",
    "import numpy as np\n",
    "from scipy.interpolate import interp1d"
   ]
  },
  {
   "cell_type": "code",
   "execution_count": 4,
   "id": "0e51f370",
   "metadata": {},
   "outputs": [],
   "source": [
    "%matplotlib tk\n",
    "import matplotlib.pyplot as plt\n",
    "import matplotlib.image as mpimg\n",
    "\n",
    "def get_pt_onclick(event):\n",
    "    global ix,iy, rgba\n",
    "    ix, iy = event.xdata,event.ydata\n",
    "    rgba = event.inaxes.get_images()[0].get_cursor_data(event).data\n",
    "    print(ix, iy)\n",
    "    \n",
    "def get_pts_manual(event):\n",
    "    fig.canvas.draw_idle()\n",
    "    global ix,iy, pts_manual\n",
    "    if event.key == 'm':\n",
    "        plt.plot(ix,iy, 'x', color = 'tab:red') \n",
    "        pts_manual.append([ix,iy])\n",
    "\n",
    "\n",
    "def cal_points(event): \n",
    "    fig.canvas.draw_idle()\n",
    "    global ix,iy, calpts\n",
    "    if len(calpts)<4:\n",
    "        #print(event.key)\n",
    "        if event.key == 'enter':\n",
    "            calpts.append([ix,iy])\n",
    "            plt.plot(ix,iy, 'rx')\n",
    "#             if len(calpts)>=4:\n",
    "#                 plt.close(plt.gcf())\n",
    "\n",
    "\n",
    "def bound_points(event): \n",
    "    fig.canvas.draw_idle()\n",
    "    global ix,iy, boundpts\n",
    "    if len(boundpts)<4:\n",
    "        #print(event.key)\n",
    "        if event.key == 'b':\n",
    "            boundpts.append([ix,iy])\n",
    "            plt.plot(ix,iy, 'gx')\n",
    "\n",
    "                \n",
    "def line_color(event):\n",
    "    global ix,iy,rgba,line_col\n",
    "    if event.key == '-':\n",
    "        print(event.key)\n",
    "        line_col = rgba \n",
    "        \n",
    "def mouse_eraser(event):\n",
    "    fig.canvas.draw_idle()\n",
    "    global ix,iy, pts\n",
    "    if event.key == ' ':\n",
    "        plt.plot(ix,iy, 'bo') \n",
    "        try:\n",
    "            idx = np.where(((pts[0,:] - ix)**2 + (pts[1,:] - iy)**2)<300)[0]\n",
    "            pts[:, idx] = 0\n",
    "        except:\n",
    "            print('bleh')"
   ]
  },
  {
   "cell_type": "code",
   "execution_count": null,
   "id": "d9456a1d",
   "metadata": {},
   "outputs": [],
   "source": [
    "filename = 'IMG_1830.png'"
   ]
  },
  {
   "cell_type": "code",
   "execution_count": null,
   "id": "6565e493",
   "metadata": {},
   "outputs": [],
   "source": [
    "#set calpts (enter), boundpts (b), line_col (-)"
   ]
  },
  {
   "cell_type": "code",
   "execution_count": null,
   "id": "203f86e8",
   "metadata": {},
   "outputs": [],
   "source": [
    "img=mpimg.imread(filename)\n",
    "fig = plt.figure(figsize=(10,5))\n",
    "cid = fig.canvas.mpl_connect('button_press_event', get_pt_onclick)\n",
    "kid = fig.canvas.mpl_connect('key_press_event', cal_points)\n",
    "bid = fig.canvas.mpl_connect('key_press_event', bound_points)\n",
    "lid = fig.canvas.mpl_connect('key_press_event', line_color)\n",
    "eid = fig.canvas.mpl_connect('key_press_event', mouse_eraser)\n",
    "mid = fig.canvas.mpl_connect('key_press_event', get_pts_manual)\n",
    "\n",
    "ix,iy = 0,0\n",
    "line_col = [0,0,0,0]\n",
    "calpts = []\n",
    "boundpts = []\n",
    "#pts = np.copy(mask2)\n",
    "pts_manual = []\n",
    "imgplot = plt.imshow(img)\n",
    "plt.gca().plot([300,300], 'ro')\n",
    "plt.show()"
   ]
  },
  {
   "cell_type": "code",
   "execution_count": null,
   "id": "35ef1f30",
   "metadata": {},
   "outputs": [],
   "source": [
    "save_name = '5ps_18mW_250kHz'"
   ]
  },
  {
   "cell_type": "code",
   "execution_count": null,
   "id": "91ba84b7",
   "metadata": {},
   "outputs": [],
   "source": [
    "mask = np.sum((img - np.tile(line_col,(img.shape[0],img.shape[1],1)))**2, axis = 2)\n",
    "mask2 = np.copy(mask)\n",
    "mask2[mask2>0.02] = 0\n",
    "X,Y=np.meshgrid(np.arange(mask2.shape[1]),np.arange(mask2.shape[0]))\n",
    "bb = np.array(boundpts)\n",
    "x0 = np.min(bb[:, 0]) #x\n",
    "y0 = np.max(bb[:, 1]) #y\n",
    "x1 = np.max(bb[:, 0]) #x\n",
    "y1 = np.min(bb[:, 1]) #y\n",
    "roi = np.zeros(mask2.shape)\n",
    "roi[np.where((x0<X) & (y0>Y) & (x1>X) & (y1<Y))[0],np.where((x0<X) & (y0>Y) & (x1>X) & (y1<Y))[1]] = 1\n",
    "plt.figure(1)\n",
    "pts = np.array([np.where(mask2*roi>0)[1],np.where(mask2*roi>0)[0]])\n",
    "plt.plot(pts[0,:], pts[1,:], 'rx')\n",
    "plt.show()"
   ]
  },
  {
   "cell_type": "code",
   "execution_count": null,
   "id": "73f1ec33",
   "metadata": {},
   "outputs": [],
   "source": [
    "#manual correction, erase (space), add (m)\n",
    "pts = np.hstack((pts,np.array(pts_manual).T))\n",
    "pts = np.vstack((pts[0,:][(pts[0,:]>x0)&(pts[1,:]<y0)],pts[1,:][(pts[0,:]>x0)&(pts[1,:]<y0)]))\n",
    "plt.figure(1)\n",
    "plt.plot(pts[0,:], pts[1,:], 'gx')\n",
    "plt.show()"
   ]
  },
  {
   "cell_type": "code",
   "execution_count": null,
   "id": "a02c2bff",
   "metadata": {},
   "outputs": [],
   "source": [
    "#interpolate and save\n",
    "calval = [-34,-24,0.01,0.1]\n",
    "fx = interp1d([calpts[0][0],calpts[1][0]], [calval[0],calval[1]],bounds_error=None, fill_value = 'extrapolate')\n",
    "fy = interp1d([calpts[2][1],calpts[3][1]],[calval[2],calval[3]],bounds_error=None, fill_value = 'extrapolate')\n",
    "data = {}\n",
    "data['x'] = fx(pts[0,:])\n",
    "data['y'] = fy(pts[1,:])\n",
    "np.save(save_name+'.npy',data)"
   ]
  }
 ],
 "metadata": {
  "kernelspec": {
   "display_name": "Python 3 (ipykernel)",
   "language": "python",
   "name": "python3"
  },
  "language_info": {
   "codemirror_mode": {
    "name": "ipython",
    "version": 3
   },
   "file_extension": ".py",
   "mimetype": "text/x-python",
   "name": "python",
   "nbconvert_exporter": "python",
   "pygments_lexer": "ipython3",
   "version": "3.10.6"
  }
 },
 "nbformat": 4,
 "nbformat_minor": 5
}
