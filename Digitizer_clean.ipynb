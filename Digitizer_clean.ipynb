{
 "cells": [
  {
   "cell_type": "code",
   "execution_count": 1,
   "metadata": {},
   "outputs": [],
   "source": [
    "%load_ext autoreload\n",
    "%autoreload 2"
   ]
  },
  {
   "cell_type": "code",
   "execution_count": 2,
   "metadata": {},
   "outputs": [],
   "source": [
    "import matplotlib as plt\n",
    "import numpy as np\n",
    "from scipy.interpolate import interp1d\n",
    "#import cv2\n",
    "# filename = 'carbide.jpg'\n",
    "# img=mpimg.imread(filename)\n",
    "# fig = plt.figure(figsize=(10,5))\n",
    "# plt.imshow(img)\n",
    "# plt.plot(30.00649350649357, 624.9545454545455, 'ro')\n",
    "# plt.plot(32.603896103896176, 117.16233766233768, 'ro')\n",
    "# plt.plot(1252.0844155844154, 624.9545454545455, 'ro')\n",
    "# plt.plot(1249.4870129870128, 136.64285714285722, 'ro')\n",
    "# plt.plot(1249.4870129870128, 117.16, 'bo')\n",
    "# pts1 = np.float32([[30.00649350649357, 624.9545454545455],\\\n",
    "#                        [32.603896103896176, 117.16233766233768],\\\n",
    "#                        [1252.0844155844154, 624.9545454545455],\\\n",
    "#                        [1249.4870129870128, 136.64285714285722]])\n",
    "# pts2 = np.float32([[30.00649350649357, 624.9545454545455],\\\n",
    "#                        [30.603896103896176, 117.16233766233768],\\\n",
    "#                        [1252.0844155844154, 624.9545454545455],\\\n",
    "#                        [1249.4870129870128, 117.16233766233768]])\n",
    "\n",
    "# M = cv2.getPerspectiveTransform(pts1,pts2)"
   ]
  },
  {
   "cell_type": "code",
   "execution_count": 3,
   "metadata": {},
   "outputs": [],
   "source": [
    "%matplotlib tk\n",
    "import matplotlib.pyplot as plt\n",
    "import matplotlib.image as mpimg\n",
    "\n",
    "def get_pt_onclick(event):\n",
    "    global ix,iy, rgba\n",
    "    ix, iy = event.xdata,event.ydata\n",
    "    rgba = event.inaxes.get_images()[0].get_cursor_data(event).data\n",
    "    print(ix, iy)\n",
    "    \n",
    "def get_pts_manual(event):\n",
    "    fig.canvas.draw_idle()\n",
    "    global ix,iy, pts_manual\n",
    "    if event.key == 'm':\n",
    "        plt.plot(ix,iy, 'x', color = 'tab:red') \n",
    "        pts_manual.append([ix,iy])\n",
    "\n",
    "\n",
    "def cal_points(event): \n",
    "    fig.canvas.draw_idle()\n",
    "    global ix,iy, calpts\n",
    "    if len(calpts)<4:\n",
    "        #print(event.key)\n",
    "        if event.key == 'enter':\n",
    "            calpts.append([ix,iy])\n",
    "            plt.plot(ix,iy, 'rx')\n",
    "#             if len(calpts)>=4:\n",
    "#                 plt.close(plt.gcf())\n",
    "\n",
    "\n",
    "# def bound_points(event): \n",
    "#     fig.canvas.draw_idle()\n",
    "#     global ix,iy, boundpts\n",
    "#     if len(boundpts)<4:\n",
    "#         #print(event.key)\n",
    "#         if event.key == 'b':\n",
    "#             boundpts.append([ix,iy])\n",
    "#             plt.plot(ix,iy, 'gx')\n",
    "\n",
    "                \n",
    "def line_color(event):\n",
    "    global ix,iy,rgba,line_col\n",
    "    if event.key == '-':\n",
    "        print(event.key)\n",
    "        line_col = rgba \n",
    "        \n",
    "def mouse_eraser(event):\n",
    "    fig.canvas.draw_idle()\n",
    "    global ix,iy, pts\n",
    "    if event.key == ' ':\n",
    "        plt.plot(event.xdata,event.ydata, 'bo') \n",
    "        try:\n",
    "            idx = np.where(((pts[0,:] - event.xdata)**2 + (pts[1,:] - event.ydata)**2)<400)[0]\n",
    "            pts[:, idx] = 0\n",
    "        except:\n",
    "            print('bleh')\n",
    "            \n",
    "            \n",
    "def bound_polygon(event):\n",
    "    fig.canvas.draw_idle()\n",
    "    global ix,iy, boundpts\n",
    "    #print(event.key)\n",
    "    if event.key == 'b':\n",
    "        boundpts.append([ix,iy])\n",
    "        plt.plot(ix,iy, 'gx')"
   ]
  },
  {
   "cell_type": "code",
   "execution_count": 5,
   "metadata": {},
   "outputs": [],
   "source": [
    "# boundry_x = []\n",
    "# boundry_y = []\n",
    "# for i in range(len(pts)):\n",
    "#     print((i+1)%len(pts))\n",
    "#     f = interp1d([pts[i,1], pts[(i+1)%len(pts),1]], [pts[i,0],pts[(i+1)%len(pts),0]] ,bounds_error=False, fill_value = 'extrapolate')\n",
    "#     h = np.linspace(pts[i,1],pts[(i+1)%len(pts),1], abs(int(pts[(i+1)%len(pts),1]-pts[i,1])))\n",
    "#     boundry_x+=list(f(h))\n",
    "#     boundry_y+=list(h)\n",
    "    \n",
    "# plt.figure(2)\n",
    "# plt.plot(boundry_x, boundry_y)\n",
    "# plt.plot(pts[:,0], pts[:,1], 'o')\n",
    "\n",
    "# boundry_x = np.array(boundry_x)\n",
    "# roi = np.zeros((img.shape[0],img.shape[1]))\n",
    "# h = np.arange(int(np.min(boundry_y)),int(np.max(boundry_y)))\n",
    "# for i,y in enumerate(h):\n",
    "#     xs = np.where((boundry_y-y)**2<1)[0]\n",
    "#     xmin = int(np.min(boundry_x[xs]))\n",
    "#     xmax = int(np.max(boundry_x[xs]))\n",
    "#     roi[y,xmin:xmax] = 1\n",
    "    \n",
    "# plt.figure(3)\n",
    "# plt.imshow(roi)\n",
    "# plt.colorbar()"
   ]
  },
  {
   "cell_type": "code",
   "execution_count": 4,
   "metadata": {},
   "outputs": [],
   "source": [
    "def get_path(pts):\n",
    "    path = 0\n",
    "    for i in range(len(pts)):\n",
    "        path+= np.sqrt((pts[i%len(pts),0]-pts[(i+1)%len(pts),0])**2+ (pts[i%len(pts),1]-pts[(i+1)%len(pts),1])**2)\n",
    "    return path"
   ]
  },
  {
   "cell_type": "code",
   "execution_count": 6,
   "metadata": {},
   "outputs": [
    {
     "name": "stdout",
     "output_type": "stream",
     "text": [
      "3ps_49mW_50att_250kHz.npy           IMG_1833.png\r\n",
      "4ps_29mW_50att_250kHz.npy           IMG_1835.png\r\n",
      "5ps_0.3mW_250kHz.npy                IMG_1836.png\r\n",
      "5ps_0.3mW_250kHz_2.npy              IMG_1837.png\r\n",
      "5ps_103mW_250kHz.npy                IMG_1838.png\r\n",
      "5ps_17mW_50att_250kHz.npy           IMG_1839.png\r\n",
      "5ps_18mW_250kHz.npy                 IMG_1840.png\r\n",
      "5ps_3.3mW_250kHz.npy                IMG_1841.png\r\n",
      "5ps_31mW_250kHz.npy                 IMG_1842.png\r\n",
      "5ps_45mW_250kHz.npy                 IMG_1843.png\r\n",
      "5ps_58mW_250kHz.npy                 IMG_1844.png\r\n",
      "5ps_70mW_250kHz.npy                 IMG_1845.png\r\n",
      "5ps_8.5mW_250kHz.npy                IMG_1846.png\r\n",
      "5ps_8.5mW_250kHz_2.npy              IMG_1847.png\r\n",
      "5ps_84mW_250kHz.npy                 IMG_1848 2.png\r\n",
      "5ps_UV_spectra.npy                  IMG_1851.png\r\n",
      "6ps_12mW_50att_250kHz.npy           IMG_1852.png\r\n",
      "7ps_8.5mW_50att_250kHz.npy          IMG_1853.png\r\n",
      "8ps_6mW_50att_250kHz.npy            IMG_1854.png\r\n",
      "Bokeh_tools.ipynb                   IMG_1855.png\r\n",
      "Digitizer.ipynb                     IMG_1856.png\r\n",
      "Digitizer_clean.ipynb               Plot_digitized_traces.ipynb\r\n",
      "Digitizer_superradiant_trace.ipynb  README.md\r\n",
      "IMG_1828.png                        carbide.jpg\r\n",
      "IMG_1829.png                        carbide_flat.jpg\r\n",
      "IMG_1830.HEIC                       carbide_spec.npy\r\n",
      "IMG_1830.png                        ex_trace.png\r\n",
      "IMG_1831.png                        sup_trace.npy\r\n",
      "IMG_1832.png                        tangerine_spectrum.png\r\n"
     ]
    }
   ],
   "source": [
    "ls"
   ]
  },
  {
   "cell_type": "code",
   "execution_count": 80,
   "metadata": {},
   "outputs": [],
   "source": [
    "filename = 'carbide_flat.jpg' #'tangerine_spectrum.png' #'carbide_flat.jpg' #'IMG_1840.png'"
   ]
  },
  {
   "cell_type": "code",
   "execution_count": 52,
   "metadata": {},
   "outputs": [],
   "source": [
    "#set calpts (enter), boundpts (b), line_col (-)"
   ]
  },
  {
   "cell_type": "code",
   "execution_count": 81,
   "metadata": {},
   "outputs": [],
   "source": [
    "img=mpimg.imread(filename)\n",
    "if np.max(img) > 2: img = img/255\n",
    "fig = plt.figure(figsize=(10,5))\n",
    "cid = fig.canvas.mpl_connect('button_press_event', get_pt_onclick)\n",
    "kid = fig.canvas.mpl_connect('key_press_event', cal_points)\n",
    "#bid = fig.canvas.mpl_connect('key_press_event', bound_points)\n",
    "bid = fig.canvas.mpl_connect('key_press_event', bound_polygon)\n",
    "lid = fig.canvas.mpl_connect('key_press_event', line_color)\n",
    "eid = fig.canvas.mpl_connect('key_press_event', mouse_eraser)\n",
    "mid = fig.canvas.mpl_connect('key_press_event', get_pts_manual)\n",
    "\n",
    "ix,iy = 0,0\n",
    "line_col = [0,0,0,0]\n",
    "calpts = []\n",
    "boundpts = []\n",
    "pts_manual = []\n",
    "imgplot = plt.imshow(img)\n",
    "plt.show()"
   ]
  },
  {
   "cell_type": "code",
   "execution_count": 82,
   "metadata": {},
   "outputs": [
    {
     "name": "stdout",
     "output_type": "stream",
     "text": [
      "97.01207196877826 627.265656075673\n",
      "1131.1716644984895 627.265656075673\n",
      "29.85885167464116 609.3581306639031\n",
      "29.85885167464116 157.19311401671337\n",
      "51.12403810111792 614.9542323550812\n",
      "326.45224130708004 246.73074107556283\n",
      "596.184342821864 166.14687672259822\n",
      "762.9481732189712 166.14687672259822\n",
      "999.1036645866867 535.4895883403524\n",
      "1226.305393248517 581.3776222080127\n",
      "1228.5438339249883 625.0272153992017\n",
      "1213.9939695279252 620.5503340462593\n",
      "959.9309527484401 619.4311137080236\n",
      "723.7754613807246 461.6210460168015\n",
      "480.9046479835954 616.0734526933168\n",
      "468.59322426300355 620.5503340462593\n",
      "659.9799021012942 247.84996141379838\n",
      "-\n"
     ]
    }
   ],
   "source": [
    "save_name = 'carbide2'"
   ]
  },
  {
   "cell_type": "code",
   "execution_count": 310,
   "metadata": {},
   "outputs": [],
   "source": [
    "#roi for 4 boundpts\n",
    "# mask = np.sum((img - np.tile(line_col,(img.shape[0],img.shape[1],1)))**2, axis = 2)\n",
    "# mask2 = np.copy(mask)\n",
    "# mask2[mask2>0.02] = 0\n",
    "# X,Y=np.meshgrid(np.arange(mask2.shape[1]),np.arange(mask2.shape[0]))\n",
    "# bb = np.array(boundpts)\n",
    "# x0 = np.min(bb[:, 0]) #x\n",
    "# y0 = np.max(bb[:, 1]) #y\n",
    "# x1 = np.max(bb[:, 0]) #x\n",
    "# y1 = np.min(bb[:, 1]) #y\n",
    "# roi = np.zeros(mask2.shape)\n",
    "# roi[np.where((x0<X) & (y0>Y) & (x1>X) & (y1<Y))[0],np.where((x0<X) & (y0>Y) & (x1>X) & (y1<Y))[1]] = 1\n",
    "# plt.figure(1)\n",
    "# pts = np.array([np.where(mask2*roi>0)[1],np.where(mask2*roi>0)[0]])\n",
    "# plt.plot(pts[0,:], pts[1,:], 'x', color = 'palevioletred')\n",
    "# plt.show()"
   ]
  },
  {
   "cell_type": "code",
   "execution_count": 83,
   "metadata": {},
   "outputs": [
    {
     "name": "stdout",
     "output_type": "stream",
     "text": [
      "1\n",
      "2\n",
      "3\n",
      "4\n",
      "5\n",
      "6\n",
      "7\n",
      "8\n",
      "9\n",
      "10\n",
      "11\n",
      "0\n",
      "677.8874275130642 233.30009701673532\n",
      "677.8874275130642 233.30009701673532\n",
      "730.4907834101382 205.31958856084486\n",
      "954.334851057262 593.6890459286044\n"
     ]
    }
   ],
   "source": [
    "#roi for polygon\n",
    "mask = np.sum((img - np.tile(line_col,(img.shape[0],img.shape[1],1)))**2, axis = 2)\n",
    "mask2 = np.copy(mask)\n",
    "mask2[mask2>0.02] = 0\n",
    "#mask2[mask2>16] = 0\n",
    "boundpts = np.array(boundpts)\n",
    "boundry_x = []\n",
    "boundry_y = []\n",
    "for i in range(len(boundpts)):\n",
    "    print((i+1)%len(boundpts))\n",
    "    f = interp1d([boundpts[i,1], boundpts[(i+1)%len(boundpts),1]], [boundpts[i,0],boundpts[(i+1)%len(boundpts),0]] ,bounds_error=False, fill_value = 'extrapolate')\n",
    "    h = np.linspace(boundpts[i,1],boundpts[(i+1)%len(boundpts),1], abs(int(boundpts[(i+1)%len(boundpts),1]-boundpts[i,1])))\n",
    "    boundry_x+=list(f(h))\n",
    "    boundry_y+=list(h)\n",
    "    \n",
    "plt.figure(1)\n",
    "plt.plot(boundry_x, boundry_y, 'g', alpha = 0.4)\n",
    "\n",
    "boundry_x = np.array(boundry_x)\n",
    "roi = np.zeros((img.shape[0],img.shape[1]))\n",
    "h = np.arange(int(np.floor(np.min(boundry_y))),int(np.ceil(np.max(boundry_y))))\n",
    "for i,y in enumerate(h):\n",
    "    xs = np.where((boundry_y-y)**2<1)[0]\n",
    "    xmin = int(np.min(boundry_x[xs]))\n",
    "    xmax = int(np.max(boundry_x[xs]))\n",
    "    roi[y,xmin:xmax] = 1\n",
    "    \n",
    "plt.figure(1)\n",
    "pts = np.array([np.where(mask2*roi>0)[1],np.where(mask2*roi>0)[0]])\n",
    "plt.plot(pts[0,:], pts[1,:], 'x', color = 'palevioletred', alpha = 0.6)\n",
    "plt.show()"
   ]
  },
  {
   "cell_type": "code",
   "execution_count": 84,
   "metadata": {},
   "outputs": [
    {
     "name": "stderr",
     "output_type": "stream",
     "text": [
      "Exception in Tkinter callback\n",
      "Traceback (most recent call last):\n",
      "  File \"/Users/parisfranz/opt/anaconda3/lib/python3.8/tkinter/__init__.py\", line 1883, in __call__\n",
      "    return self.func(*args)\n",
      "  File \"/Users/parisfranz/opt/anaconda3/lib/python3.8/site-packages/matplotlib/backends/_backend_tk.py\", line 293, in button_press_event\n",
      "    FigureCanvasBase.button_press_event(\n",
      "  File \"/Users/parisfranz/opt/anaconda3/lib/python3.8/site-packages/matplotlib/backend_bases.py\", line 1854, in button_press_event\n",
      "    self.callbacks.process(s, mouseevent)\n",
      "  File \"/Users/parisfranz/opt/anaconda3/lib/python3.8/site-packages/matplotlib/cbook/__init__.py\", line 229, in process\n",
      "    self.exception_handler(exc)\n",
      "  File \"/Users/parisfranz/opt/anaconda3/lib/python3.8/site-packages/matplotlib/cbook/__init__.py\", line 81, in _exception_printer\n",
      "    raise exc\n",
      "  File \"/Users/parisfranz/opt/anaconda3/lib/python3.8/site-packages/matplotlib/cbook/__init__.py\", line 224, in process\n",
      "    func(*args, **kwargs)\n",
      "  File \"<ipython-input-3-21e30d0290a3>\", line 8, in get_pt_onclick\n",
      "    rgba = event.inaxes.get_images()[0].get_cursor_data(event).data\n",
      "AttributeError: 'NoneType' object has no attribute 'get_images'\n"
     ]
    }
   ],
   "source": [
    "#manual correction, erase (space), add (m)\n",
    "if len(pts_manual) > 0: pts = np.hstack((pts,np.array(pts_manual).T))\n",
    "#pts = np.vstack((pts[0,:][(pts[0,:]>x0)&(pts[1,:]<y0)],pts[1,:][(pts[0,:]>x0)&(pts[1,:]<y0)]))\n",
    "plt.figure(1)\n",
    "plt.plot(pts[0,:], pts[1,:], 'gx')\n",
    "plt.show()"
   ]
  },
  {
   "cell_type": "code",
   "execution_count": null,
   "metadata": {},
   "outputs": [],
   "source": []
  },
  {
   "cell_type": "code",
   "execution_count": 91,
   "metadata": {},
   "outputs": [],
   "source": [
    "#interpolate and save\n",
    "calval = [1008,1040,0.0,1]\n",
    "fx = interp1d([calpts[0][0],calpts[1][0]], [calval[0],calval[1]],bounds_error=False, fill_value = 'extrapolate')\n",
    "fy = interp1d([calpts[2][1],calpts[3][1]],[calval[2],calval[3]],bounds_error=False, fill_value = 'extrapolate')\n",
    "data = {}\n",
    "data['x'] = fx(pts[0,:])\n",
    "data['y'] = fy(pts[1,:])\n",
    "np.save(save_name+'.npy',data)"
   ]
  },
  {
   "cell_type": "code",
   "execution_count": 86,
   "metadata": {},
   "outputs": [
    {
     "data": {
      "text/plain": [
       "[<matplotlib.lines.Line2D at 0x7f951a418ee0>]"
      ]
     },
     "execution_count": 86,
     "metadata": {},
     "output_type": "execute_result"
    }
   ],
   "source": [
    "plt.figure(3)\n",
    "plt.plot(data['x'],data['y'], 'o')"
   ]
  },
  {
   "cell_type": "code",
   "execution_count": 92,
   "metadata": {},
   "outputs": [],
   "source": [
    "data['y'] = data['y'][np.argsort(data['x'])]\n",
    "data['x'] = data['x'][np.argsort(data['x'])]\n",
    "plt.figure(4)\n",
    "plt.plot(data['x'],data['y'], '-')\n",
    "plt.plot(d2['x'], d2['y'])\n",
    "plt.grid()\n"
   ]
  },
  {
   "cell_type": "code",
   "execution_count": 93,
   "metadata": {},
   "outputs": [],
   "source": [
    "np.save(save_name+'.npy',data)"
   ]
  },
  {
   "cell_type": "code",
   "execution_count": 39,
   "metadata": {},
   "outputs": [
    {
     "data": {
      "text/plain": [
       "0.9970269167278062"
      ]
     },
     "execution_count": 39,
     "metadata": {},
     "output_type": "execute_result"
    }
   ],
   "source": [
    "np.max(data['y'])"
   ]
  },
  {
   "cell_type": "code",
   "execution_count": 98,
   "metadata": {},
   "outputs": [
    {
     "data": {
      "text/plain": [
       "<matplotlib.legend.Legend at 0x7f951a2d7f40>"
      ]
     },
     "execution_count": 98,
     "metadata": {},
     "output_type": "execute_result"
    }
   ],
   "source": [
    "d = np.load('tangerine_spec.npy', allow_pickle = True)[()]\n",
    "d2 = np.load('carbide2.npy', allow_pickle = True)[()]\n",
    "plt.plot(d2['x'], d2['y']/np.max(d2['y']), label = 'carbide')\n",
    "plt.plot(d['x'], d['y']/np.max(d['y']), label = 'tangerine')\n",
    "plt.grid()\n",
    "plt.legend()"
   ]
  },
  {
   "cell_type": "code",
   "execution_count": null,
   "metadata": {},
   "outputs": [],
   "source": []
  }
 ],
 "metadata": {
  "kernelspec": {
   "display_name": "Python 3",
   "language": "python",
   "name": "python3"
  },
  "language_info": {
   "codemirror_mode": {
    "name": "ipython",
    "version": 3
   },
   "file_extension": ".py",
   "mimetype": "text/x-python",
   "name": "python",
   "nbconvert_exporter": "python",
   "pygments_lexer": "ipython3",
   "version": "3.8.5"
  }
 },
 "nbformat": 4,
 "nbformat_minor": 5
}
