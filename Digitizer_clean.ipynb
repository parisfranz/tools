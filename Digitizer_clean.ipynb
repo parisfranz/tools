{
 "cells": [
  {
   "cell_type": "code",
   "execution_count": 1,
   "id": "f632654f",
   "metadata": {},
   "outputs": [],
   "source": [
    "%load_ext autoreload\n",
    "%autoreload 2"
   ]
  },
  {
   "cell_type": "code",
   "execution_count": 2,
   "id": "fc8fd4e4",
   "metadata": {},
   "outputs": [],
   "source": [
    "import matplotlib as plt\n",
    "import numpy as np\n",
    "from scipy.interpolate import interp1d"
   ]
  },
  {
   "cell_type": "code",
   "execution_count": 309,
   "id": "77e40f8b",
   "metadata": {},
   "outputs": [],
   "source": [
    "%matplotlib tk\n",
    "import matplotlib.pyplot as plt\n",
    "import matplotlib.image as mpimg\n",
    "\n",
    "def get_pt_onclick(event):\n",
    "    global ix,iy, rgba\n",
    "    ix, iy = event.xdata,event.ydata\n",
    "    rgba = event.inaxes.get_images()[0].get_cursor_data(event).data\n",
    "    print(ix, iy)\n",
    "    \n",
    "def get_pts_manual(event):\n",
    "    fig.canvas.draw_idle()\n",
    "    global ix,iy, pts_manual\n",
    "    if event.key == 'm':\n",
    "        plt.plot(ix,iy, 'x', color = 'tab:red') \n",
    "        pts_manual.append([ix,iy])\n",
    "\n",
    "\n",
    "def cal_points(event): \n",
    "    fig.canvas.draw_idle()\n",
    "    global ix,iy, calpts\n",
    "    if len(calpts)<4:\n",
    "        #print(event.key)\n",
    "        if event.key == 'enter':\n",
    "            calpts.append([ix,iy])\n",
    "            plt.plot(ix,iy, 'rx')\n",
    "#             if len(calpts)>=4:\n",
    "#                 plt.close(plt.gcf())\n",
    "\n",
    "\n",
    "# def bound_points(event): \n",
    "#     fig.canvas.draw_idle()\n",
    "#     global ix,iy, boundpts\n",
    "#     if len(boundpts)<4:\n",
    "#         #print(event.key)\n",
    "#         if event.key == 'b':\n",
    "#             boundpts.append([ix,iy])\n",
    "#             plt.plot(ix,iy, 'gx')\n",
    "\n",
    "                \n",
    "def line_color(event):\n",
    "    global ix,iy,rgba,line_col\n",
    "    if event.key == '-':\n",
    "        print(event.key)\n",
    "        line_col = rgba \n",
    "        \n",
    "def mouse_eraser(event):\n",
    "    fig.canvas.draw_idle()\n",
    "    global ix,iy, pts\n",
    "    if event.key == ' ':\n",
    "        plt.plot(event.xdata,event.ydata, 'bo') \n",
    "        try:\n",
    "            idx = np.where(((pts[0,:] - event.xdata)**2 + (pts[1,:] - event.ydata)**2)<400)[0]\n",
    "            pts[:, idx] = 0\n",
    "        except:\n",
    "            print('bleh')\n",
    "            \n",
    "            \n",
    "def bound_polygon(event):\n",
    "    fig.canvas.draw_idle()\n",
    "    global ix,iy, boundpts\n",
    "    #print(event.key)\n",
    "    if event.key == 'b':\n",
    "        boundpts.append([ix,iy])\n",
    "        plt.plot(ix,iy, 'gx')"
   ]
  },
  {
   "cell_type": "code",
   "execution_count": null,
   "id": "beba63f2",
   "metadata": {},
   "outputs": [],
   "source": [
    "boundry_x = []\n",
    "boundry_y = []\n",
    "for i in range(len(pts)):\n",
    "    print((i+1)%len(pts))\n",
    "    f = interp1d([pts[i,1], pts[(i+1)%len(pts),1]], [pts[i,0],pts[(i+1)%len(pts),0]] ,bounds_error=False, fill_value = 'extrapolate')\n",
    "    h = np.linspace(pts[i,1],pts[(i+1)%len(pts),1], abs(int(pts[(i+1)%len(pts),1]-pts[i,1])))\n",
    "    boundry_x+=list(f(h))\n",
    "    boundry_y+=list(h)\n",
    "    \n",
    "plt.figure(2)\n",
    "plt.plot(boundry_x, boundry_y)\n",
    "plt.plot(pts[:,0], pts[:,1], 'o')\n",
    "\n",
    "boundry_x = np.array(boundry_x)\n",
    "roi = np.zeros((img.shape[0],img.shape[1]))\n",
    "h = np.arange(int(np.min(boundry_y)),int(np.max(boundry_y)))\n",
    "for i,y in enumerate(h):\n",
    "    xs = np.where((boundry_y-y)**2<1)[0]\n",
    "    xmin = int(np.min(boundry_x[xs]))\n",
    "    xmax = int(np.max(boundry_x[xs]))\n",
    "    roi[y,xmin:xmax] = 1\n",
    "    \n",
    "plt.figure(3)\n",
    "plt.imshow(roi)\n",
    "plt.colorbar()"
   ]
  },
  {
   "cell_type": "code",
   "execution_count": 308,
   "id": "8891b8da",
   "metadata": {},
   "outputs": [
    {
     "data": {
      "text/plain": [
       "<matplotlib.colorbar.Colorbar at 0x7fa7ba7b5810>"
      ]
     },
     "execution_count": 308,
     "metadata": {},
     "output_type": "execute_result"
    }
   ],
   "source": []
  },
  {
   "cell_type": "code",
   "execution_count": 215,
   "id": "4b55fc1a",
   "metadata": {},
   "outputs": [],
   "source": [
    "def get_path(pts):\n",
    "    path = 0\n",
    "    for i in range(len(pts)):\n",
    "        path+= np.sqrt((pts[i%len(pts),0]-pts[(i+1)%len(pts),0])**2+ (pts[i%len(pts),1]-pts[(i+1)%len(pts),1])**2)\n",
    "    return path"
   ]
  },
  {
   "cell_type": "code",
   "execution_count": 150,
   "id": "86192df7",
   "metadata": {},
   "outputs": [
    {
     "name": "stdout",
     "output_type": "stream",
     "text": [
      "3ps_49mW_50att_250kHz.npy    IMG_1833.png\r\n",
      "4ps_29mW_50att_250kHz.npy    IMG_1835.png\r\n",
      "5ps_0.3mW_250kHz.npy         IMG_1836.png\r\n",
      "5ps_0.3mW_250kHz_2.npy       IMG_1837.png\r\n",
      "5ps_103mW_250kHz.npy         IMG_1838.png\r\n",
      "5ps_17mW_50att_250kHz.npy    IMG_1839.png\r\n",
      "5ps_18mW_250kHz.npy          IMG_1840.png\r\n",
      "5ps_3.3mW_250kHz.npy         IMG_1841.png\r\n",
      "5ps_31mW_250kHz.npy          IMG_1842.png\r\n",
      "5ps_45mW_250kHz.npy          IMG_1843.png\r\n",
      "5ps_58mW_250kHz.npy          IMG_1844.png\r\n",
      "5ps_70mW_250kHz.npy          IMG_1845.png\r\n",
      "5ps_8.5mW_250kHz.npy         IMG_1846.png\r\n",
      "5ps_8.5mW_250kHz_2.npy       IMG_1847.png\r\n",
      "5ps_84mW_250kHz.npy          IMG_1848 2.png\r\n",
      "Digitizer.ipynb              IMG_1851.png\r\n",
      "Digitizer_clean.ipynb        IMG_1852.png\r\n",
      "IMG_1828.png                 IMG_1853.png\r\n",
      "IMG_1829.png                 IMG_1854.png\r\n",
      "IMG_1830.HEIC                IMG_1855.png\r\n",
      "IMG_1830.png                 IMG_1856.png\r\n",
      "IMG_1831.png                 Plot_digitized_traces.ipynb\r\n",
      "IMG_1832.png                 README.md\r\n"
     ]
    }
   ],
   "source": [
    "ls"
   ]
  },
  {
   "cell_type": "code",
   "execution_count": 321,
   "id": "2a8343c1",
   "metadata": {},
   "outputs": [],
   "source": [
    "filename = 'IMG_1831.png'"
   ]
  },
  {
   "cell_type": "code",
   "execution_count": 312,
   "id": "a1a55bfc",
   "metadata": {},
   "outputs": [],
   "source": [
    "#set calpts (enter), boundpts (b), line_col (-)"
   ]
  },
  {
   "cell_type": "code",
   "execution_count": 322,
   "id": "45779c0c",
   "metadata": {},
   "outputs": [],
   "source": [
    "img=mpimg.imread(filename)\n",
    "fig = plt.figure(figsize=(10,5))\n",
    "cid = fig.canvas.mpl_connect('button_press_event', get_pt_onclick)\n",
    "kid = fig.canvas.mpl_connect('key_press_event', cal_points)\n",
    "#bid = fig.canvas.mpl_connect('key_press_event', bound_points)\n",
    "bid = fig.canvas.mpl_connect('key_press_event', bound_polygon)\n",
    "lid = fig.canvas.mpl_connect('key_press_event', line_color)\n",
    "eid = fig.canvas.mpl_connect('key_press_event', mouse_eraser)\n",
    "mid = fig.canvas.mpl_connect('key_press_event', get_pts_manual)\n",
    "\n",
    "ix,iy = 0,0\n",
    "line_col = [0,0,0,0]\n",
    "calpts = []\n",
    "boundpts = []\n",
    "pts_manual = []\n",
    "imgplot = plt.imshow(img)\n",
    "plt.show()"
   ]
  },
  {
   "cell_type": "code",
   "execution_count": 323,
   "id": "9577f8e0",
   "metadata": {},
   "outputs": [
    {
     "name": "stdout",
     "output_type": "stream",
     "text": [
      "1595.2818181818177 612.1545454545453\n",
      "2098.256366038453 1705.5967745938967\n",
      "3646.854846716644 1705.5967745938967\n",
      "1737.3433316985772 1705.5967745938967\n",
      "1727.1046640577297 776.4376861869825\n",
      "1801.3350044538743 1641.6051018385997\n",
      "1803.8946713640862 1531.5394246994886\n",
      "2397.737394533244 1503.3830886871579\n",
      "2610.18974808083 1011.9270419264759\n",
      "2628.1074164523134 970.9723713630858\n",
      "2643.4654179135846 912.1000324282124\n",
      "2658.823419374856 968.4127044528739\n",
      "2717.695758309729 835.3100251218559\n",
      "2738.1730935914247 766.199018546135\n",
      "2776.5680972446025 906.9806986077888\n",
      "2937.8271125879514 1280.6920674987239\n",
      "3672.451515818763 1488.0250872258866\n",
      "3659.653181267703 1646.7244356590234\n",
      "1814.133339004934 1646.7244356590234\n",
      "2466.848401108965 1209.021394012791\n",
      "2610.958580894108 1306.3604274475472\n",
      "-\n"
     ]
    }
   ],
   "source": [
    "save_name = 'test'"
   ]
  },
  {
   "cell_type": "code",
   "execution_count": 310,
   "id": "077c4c51",
   "metadata": {},
   "outputs": [],
   "source": [
    "#roi for 4 boundpts\n",
    "# mask = np.sum((img - np.tile(line_col,(img.shape[0],img.shape[1],1)))**2, axis = 2)\n",
    "# mask2 = np.copy(mask)\n",
    "# mask2[mask2>0.02] = 0\n",
    "# X,Y=np.meshgrid(np.arange(mask2.shape[1]),np.arange(mask2.shape[0]))\n",
    "# bb = np.array(boundpts)\n",
    "# x0 = np.min(bb[:, 0]) #x\n",
    "# y0 = np.max(bb[:, 1]) #y\n",
    "# x1 = np.max(bb[:, 0]) #x\n",
    "# y1 = np.min(bb[:, 1]) #y\n",
    "# roi = np.zeros(mask2.shape)\n",
    "# roi[np.where((x0<X) & (y0>Y) & (x1>X) & (y1<Y))[0],np.where((x0<X) & (y0>Y) & (x1>X) & (y1<Y))[1]] = 1\n",
    "# plt.figure(1)\n",
    "# pts = np.array([np.where(mask2*roi>0)[1],np.where(mask2*roi>0)[0]])\n",
    "# plt.plot(pts[0,:], pts[1,:], 'x', color = 'palevioletred')\n",
    "# plt.show()"
   ]
  },
  {
   "cell_type": "code",
   "execution_count": null,
   "id": "4fcae8ab",
   "metadata": {},
   "outputs": [],
   "source": []
  },
  {
   "cell_type": "code",
   "execution_count": 324,
   "id": "8fbdedc7",
   "metadata": {},
   "outputs": [
    {
     "name": "stdout",
     "output_type": "stream",
     "text": [
      "1\n",
      "2\n",
      "3\n",
      "4\n",
      "5\n",
      "6\n",
      "7\n",
      "8\n",
      "9\n",
      "10\n",
      "11\n",
      "12\n",
      "13\n",
      "0\n"
     ]
    }
   ],
   "source": [
    "#roi for polygon\n",
    "mask = np.sum((img - np.tile(line_col,(img.shape[0],img.shape[1],1)))**2, axis = 2)\n",
    "mask2 = np.copy(mask)\n",
    "mask2[mask2>0.02] = 0\n",
    "boundpts = np.array(boundpts)\n",
    "boundry_x = []\n",
    "boundry_y = []\n",
    "for i in range(len(boundpts)):\n",
    "    print((i+1)%len(boundpts))\n",
    "    f = interp1d([boundpts[i,1], boundpts[(i+1)%len(boundpts),1]], [boundpts[i,0],boundpts[(i+1)%len(boundpts),0]] ,bounds_error=False, fill_value = 'extrapolate')\n",
    "    h = np.linspace(boundpts[i,1],boundpts[(i+1)%len(boundpts),1], abs(int(boundpts[(i+1)%len(boundpts),1]-boundpts[i,1])))\n",
    "    boundry_x+=list(f(h))\n",
    "    boundry_y+=list(h)\n",
    "    \n",
    "plt.figure(1)\n",
    "plt.plot(boundry_x, boundry_y, 'g', alpha = 0.4)\n",
    "\n",
    "boundry_x = np.array(boundry_x)\n",
    "roi = np.zeros((img.shape[0],img.shape[1]))\n",
    "h = np.arange(int(np.min(boundry_y)),int(np.max(boundry_y)))\n",
    "for i,y in enumerate(h):\n",
    "    xs = np.where((boundry_y-y)**2<1)[0]\n",
    "    xmin = int(np.min(boundry_x[xs]))\n",
    "    xmax = int(np.max(boundry_x[xs]))\n",
    "    roi[y,xmin:xmax] = 1\n",
    "    \n",
    "plt.figure(1)\n",
    "pts = np.array([np.where(mask2*roi>0)[1],np.where(mask2*roi>0)[0]])\n",
    "plt.plot(pts[0,:], pts[1,:], 'x', color = 'palevioletred', alpha = 0.4)\n",
    "plt.show()"
   ]
  },
  {
   "cell_type": "code",
   "execution_count": 196,
   "id": "8bf94acf",
   "metadata": {},
   "outputs": [],
   "source": [
    "#manual correction, erase (space), add (m)\n",
    "if len(pts_manual) > 0: pts = np.hstack((pts,np.array(pts_manual).T))\n",
    "pts = np.vstack((pts[0,:][(pts[0,:]>x0)&(pts[1,:]<y0)],pts[1,:][(pts[0,:]>x0)&(pts[1,:]<y0)]))\n",
    "plt.figure(1)\n",
    "plt.plot(pts[0,:], pts[1,:], 'gx')\n",
    "plt.show()"
   ]
  },
  {
   "cell_type": "code",
   "execution_count": 198,
   "id": "509c2e29",
   "metadata": {},
   "outputs": [],
   "source": [
    "#interpolate and save\n",
    "calval = [252,260,0.0,1]\n",
    "fx = interp1d([calpts[0][0],calpts[1][0]], [calval[0],calval[1]],bounds_error=False, fill_value = 'extrapolate')\n",
    "fy = interp1d([calpts[2][1],calpts[3][1]],[calval[2],calval[3]],bounds_error=False, fill_value = 'extrapolate')\n",
    "data = {}\n",
    "data['x'] = fx(pts[0,:])\n",
    "data['y'] = fy(pts[1,:])\n",
    "np.save(save_name+'.npy',data)"
   ]
  },
  {
   "cell_type": "code",
   "execution_count": 122,
   "id": "0380ed3f",
   "metadata": {},
   "outputs": [
    {
     "data": {
      "text/plain": [
       "[<matplotlib.lines.Line2D at 0x7fa7b9e6a950>]"
      ]
     },
     "execution_count": 122,
     "metadata": {},
     "output_type": "execute_result"
    }
   ],
   "source": [
    "plt.figure(3)\n",
    "plt.plot(data['x'],data['y'], 'o')"
   ]
  },
  {
   "cell_type": "code",
   "execution_count": 156,
   "id": "ff4280e9",
   "metadata": {},
   "outputs": [
    {
     "name": "stdout",
     "output_type": "stream",
     "text": [
      "2077.3222494275747 2123.6978426577625\n",
      "3465.667970042179 2133.6145978050095\n",
      "1873.0370933942827 2119.7311405988635\n",
      "1873.0370933942827 1258.9567938178084\n"
     ]
    }
   ],
   "source": []
  },
  {
   "cell_type": "code",
   "execution_count": null,
   "id": "648427bd",
   "metadata": {},
   "outputs": [],
   "source": []
  }
 ],
 "metadata": {
  "kernelspec": {
   "display_name": "Python 3 (ipykernel)",
   "language": "python",
   "name": "python3"
  },
  "language_info": {
   "codemirror_mode": {
    "name": "ipython",
    "version": 3
   },
   "file_extension": ".py",
   "mimetype": "text/x-python",
   "name": "python",
   "nbconvert_exporter": "python",
   "pygments_lexer": "ipython3",
   "version": "3.10.6"
  }
 },
 "nbformat": 4,
 "nbformat_minor": 5
}
