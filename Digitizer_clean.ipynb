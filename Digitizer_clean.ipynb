{
 "cells": [
  {
   "cell_type": "code",
   "execution_count": 1,
   "id": "1ad45518",
   "metadata": {},
   "outputs": [],
   "source": [
    "%load_ext autoreload\n",
    "%autoreload 2"
   ]
  },
  {
   "cell_type": "code",
   "execution_count": 2,
   "id": "ea4f84ea",
   "metadata": {},
   "outputs": [],
   "source": [
    "import matplotlib as plt\n",
    "import numpy as np\n",
    "from scipy.interpolate import interp1d"
   ]
  },
  {
   "cell_type": "code",
   "execution_count": 91,
   "id": "4a48773d",
   "metadata": {},
   "outputs": [],
   "source": [
    "%matplotlib tk\n",
    "import matplotlib.pyplot as plt\n",
    "import matplotlib.image as mpimg\n",
    "\n",
    "def get_pt_onclick(event):\n",
    "    global ix,iy, rgba\n",
    "    ix, iy = event.xdata,event.ydata\n",
    "    rgba = event.inaxes.get_images()[0].get_cursor_data(event).data\n",
    "    print(ix, iy)\n",
    "    \n",
    "def get_pts_manual(event):\n",
    "    fig.canvas.draw_idle()\n",
    "    global ix,iy, pts_manual\n",
    "    if event.key == 'm':\n",
    "        plt.plot(ix,iy, 'x', color = 'tab:red') \n",
    "        pts_manual.append([ix,iy])\n",
    "\n",
    "\n",
    "def cal_points(event): \n",
    "    fig.canvas.draw_idle()\n",
    "    global ix,iy, calpts\n",
    "    if len(calpts)<4:\n",
    "        #print(event.key)\n",
    "        if event.key == 'enter':\n",
    "            calpts.append([ix,iy])\n",
    "            plt.plot(ix,iy, 'rx')\n",
    "#             if len(calpts)>=4:\n",
    "#                 plt.close(plt.gcf())\n",
    "\n",
    "\n",
    "def bound_points(event): \n",
    "    fig.canvas.draw_idle()\n",
    "    global ix,iy, boundpts\n",
    "    if len(boundpts)<4:\n",
    "        #print(event.key)\n",
    "        if event.key == 'b':\n",
    "            boundpts.append([ix,iy])\n",
    "            plt.plot(ix,iy, 'gx')\n",
    "\n",
    "                \n",
    "def line_color(event):\n",
    "    global ix,iy,rgba,line_col\n",
    "    if event.key == '-':\n",
    "        print(event.key)\n",
    "        line_col = rgba \n",
    "        \n",
    "def mouse_eraser(event):\n",
    "    fig.canvas.draw_idle()\n",
    "    global ix,iy, pts\n",
    "    if event.key == ' ':\n",
    "        plt.plot(event.xdata,event.ydata, 'bo') \n",
    "        try:\n",
    "            idx = np.where(((pts[0,:] - event.xdata)**2 + (pts[1,:] - event.ydata)**2)<400)[0]\n",
    "            pts[:, idx] = 0\n",
    "        except:\n",
    "            print('bleh')"
   ]
  },
  {
   "cell_type": "code",
   "execution_count": 114,
   "id": "ce838003",
   "metadata": {},
   "outputs": [
    {
     "name": "stdout",
     "output_type": "stream",
     "text": [
      "5ps_0.3mW_250kHz.npy    IMG_1829.png            IMG_1843.png\r\n",
      "5ps_0.3mW_250kHz_2.npy  IMG_1830.HEIC           IMG_1844.png\r\n",
      "5ps_18mW_250kHz.npy     IMG_1830.png            IMG_1845.png\r\n",
      "5ps_3.3mW_250kHz.npy    IMG_1831.png            IMG_1846.png\r\n",
      "5ps_31mW_250kHz.npy     IMG_1832.png            IMG_1847.png\r\n",
      "5ps_45mW_250kHz.npy     IMG_1833.png            IMG_1848 2.png\r\n",
      "5ps_58mW_250kHz.npy     IMG_1835.png            IMG_1851.png\r\n",
      "5ps_70mW_250kHz.npy     IMG_1836.png            IMG_1852.png\r\n",
      "5ps_8.5mW_250kHz.npy    IMG_1837.png            IMG_1853.png\r\n",
      "5ps_8.5mW_250kHz_2.npy  IMG_1838.png            IMG_1854.png\r\n",
      "5ps_84mW_250kHz.npy     IMG_1839.png            IMG_1855.png\r\n",
      "Digitizer.ipynb         IMG_1840.png            IMG_1856.png\r\n",
      "Digitizer_clean.ipynb   IMG_1841.png            README.md\r\n",
      "IMG_1828.png            IMG_1842.png\r\n"
     ]
    }
   ],
   "source": [
    "ls"
   ]
  },
  {
   "cell_type": "code",
   "execution_count": 115,
   "id": "772c3489",
   "metadata": {},
   "outputs": [],
   "source": [
    "filename = 'IMG_1842.png'"
   ]
  },
  {
   "cell_type": "code",
   "execution_count": 19,
   "id": "a0f30627",
   "metadata": {},
   "outputs": [],
   "source": [
    "#set calpts (enter), boundpts (b), line_col (-)"
   ]
  },
  {
   "cell_type": "code",
   "execution_count": 116,
   "id": "aec6cb1e",
   "metadata": {},
   "outputs": [],
   "source": [
    "img=mpimg.imread(filename)\n",
    "fig = plt.figure(figsize=(10,5))\n",
    "cid = fig.canvas.mpl_connect('button_press_event', get_pt_onclick)\n",
    "kid = fig.canvas.mpl_connect('key_press_event', cal_points)\n",
    "bid = fig.canvas.mpl_connect('key_press_event', bound_points)\n",
    "lid = fig.canvas.mpl_connect('key_press_event', line_color)\n",
    "eid = fig.canvas.mpl_connect('key_press_event', mouse_eraser)\n",
    "mid = fig.canvas.mpl_connect('key_press_event', get_pts_manual)\n",
    "\n",
    "ix,iy = 0,0\n",
    "line_col = [0,0,0,0]\n",
    "calpts = []\n",
    "boundpts = []\n",
    "pts_manual = []\n",
    "imgplot = plt.imshow(img)\n",
    "plt.show()"
   ]
  },
  {
   "cell_type": "code",
   "execution_count": 117,
   "id": "e014c3bd",
   "metadata": {},
   "outputs": [
    {
     "name": "stdout",
     "output_type": "stream",
     "text": [
      "1830.9181818181817 753.5363636363636\n",
      "2284.7129996120457 1733.042048352157\n",
      "2286.9948088781366 1730.760239086066\n",
      "3551.1171422925954 1739.8874761504303\n",
      "1928.7507541018367 1723.9148112877926\n",
      "1933.314372634019 802.0638677869958\n",
      "2880.265218061818 1393.052467704586\n",
      "3035.4617669728364 1562.9135843042518\n",
      "-\n"
     ]
    }
   ],
   "source": [
    "save_name = '5ps_103mW_250kHz'"
   ]
  },
  {
   "cell_type": "code",
   "execution_count": 119,
   "id": "5b71b814",
   "metadata": {},
   "outputs": [
    {
     "name": "stdout",
     "output_type": "stream",
     "text": [
      "2166.058917775309 1075.8809797179256\n",
      "2720.538569435442 790.6548214565405\n",
      "2757.3637128688015 829.594872733852\n",
      "2917.434630771987 903.5842337897345\n",
      "2920.6969482788604 883.1947493717774\n",
      "2921.1047379672195 870.1454793442849\n",
      "2929.6683214227614 859.5429474469472\n",
      "2929.6683214227614 867.6987412141301\n",
      "2931.707269864557 879.5246421765452\n",
      "2932.115059552916 888.0882256320872\n",
      "2930.891690487839 902.7686544130163\n",
      "2934.1540079947117 912.1478172452765\n",
      "2933.3384286179935 928.4594047796421\n",
      "2932.5228492412753 940.6930954304164\n",
      "2935.7851667481486 956.5968932764229\n",
      "2934.9695873714304 967.6072148621197\n",
      "2938.2319048783033 976.9863776943799\n",
      "2936.1929564365078 990.4434374102316\n",
      "2904.385360744495 904.3998131664528\n",
      "2908.055467939727 872.5922174744398\n",
      "2904.793150432854 881.5635906183409\n",
      "2895.0061979122343 943.9554129372896\n",
      "2894.598408223875 954.9657345229864\n",
      "2896.637356665671 965.9760561086832\n",
      "2895.0061979122343 972.5006911224294\n",
      "2895.0061979122343 981.0642745779714\n",
      "2892.1516700937204 993.2979652287456\n",
      "2891.336090717002 1001.0459693075693\n",
      "2939.4552739433807 1035.7080928180962\n",
      "2936.600746124867 1012.0562908932661\n",
      "2935.7851667481486 996.1524930472597\n",
      "2937.416325501585 1025.1055609207588\n",
      "2939.4552739433807 1045.9028350270748\n",
      "2941.4942223851767 1048.757362845589\n",
      "2892.5594597820796 1028.3678784276317\n",
      "2889.297142275206 1034.484723753019\n",
      "2890.112721651925 1040.601569078406\n",
      "2887.2581938334106 1046.310624715434\n",
      "2886.4426144566924 1054.0586287942576\n",
      "2899.491884484185 936.615198546825\n",
      "2930.0761111111206 852.2027330564828\n",
      "2912.9489442000367 866.0675824606935\n",
      "2749.212386345441 1061.3254410408176\n",
      "2884.5321741046528 1070.6659150825442\n",
      "2882.704292687485 1092.1435217342635\n",
      "2878.591559498858 1114.9920394488586\n",
      "2875.8497373731066 1143.7811717692484\n",
      "2872.6509448930633 1164.3448377123839\n",
      "2865.7963895786847 1197.7036735756928\n",
      "2862.1406267443494 1210.498843495866\n",
      "2861.6836563900574 1223.7509837703312\n",
      "2858.941834264306 1247.970412547802\n",
      "2951.7068161855623 1134.6417646834104\n",
      "2955.362579019897 1142.8672310606646\n",
      "2957.1904604370648 1154.291489917962\n",
      "2955.819549374189 1161.6030155866326\n",
      "2958.104401145649 1176.2260669239733\n",
      "2957.647430791357 1188.1072961355628\n",
      "2957.1904604370648 1199.5315549928605\n",
      "2957.647430791357 1210.0418731415741\n",
      "2961.760163979984 1216.8964284559527\n",
      "2960.8462232714 1225.5788651874989\n",
      "2960.389252917108 1235.6322129819207\n",
      "2964.0450157514433 1242.486768296299\n",
      "2972.7274524829895 1276.7595448681918\n",
      "2972.7274524829895 1266.70619707377\n",
      "2858.484863910014 1266.70619707377\n",
      "2858.484863910014 1282.7001594739866\n",
      "2855.743041784263 1294.124418331284\n",
      "2856.2000121385545 1308.290499314333\n",
      "2975.012304254449 1298.6941218742031\n",
      "2978.2110967344925 1316.0589953372953\n",
      "2419.3397463114193 1278.9620044000317\n",
      "2855.4116598446462 1336.6689770696498\n",
      "2850.6311523992667 1360.5715142965482\n",
      "2848.2408986765768 1386.8643052461366\n",
      "2844.655518092542 1409.57171561169\n",
      "2833.899376340438 1451.4011557587623\n",
      "2829.118868895058 1471.718312401626\n",
      "2825.5334883110236 1492.0354690444894\n",
      "2826.7286151723683 1519.5233868554226\n",
      "2823.1432345883336 1544.621050943666\n",
      "2823.1432345883336 1566.1333344478744\n",
      "2787.2894287479858 1653.3775953260536\n",
      "2731.1184662647747 1686.8411474437114\n",
      "2635.508317357181 1683.2557668596767\n",
      "2976.1194728404835 1341.4494845150298\n",
      "2977.3145997018282 1365.3520217419282\n",
      "2980.899980285863 1385.6691783847918\n",
      "2984.4853608698977 1404.7912081663103\n",
      "2988.0707414539324 1429.8888722545537\n",
      "2991.656122037967 1451.4011557587623\n",
      "2995.241502622002 1476.4988198470055\n",
      "3005.997644374106 1489.6452153217997\n",
      "3019.1440398489003 1518.3282599940776\n",
      "3023.9245472942803 1529.084401746182\n",
      "3028.7050547396598 1542.230797220976\n",
      "3026.31480101697 1545.8161778050107\n",
      "3039.461196491764 1581.6699836453586\n",
      "3045.4368307984887 1616.3286626243612\n",
      "3072.924748609422 1598.4017597041873\n",
      "3082.485763500181 1612.7432820403264\n",
      "3098.022412697665 1642.6214535739493\n",
      "3119.5346962018734 1628.2799312378104\n",
      "3192.4374347439134 1658.1581027714333\n",
      "3199.6081959119833 1652.1824684647086\n",
      "3245.02301664309 1678.475259414297\n",
      "3256.9742852565396 1686.8411474437114\n",
      "3266.5353001472986 1695.2070354731259\n",
      "3278.486568760748 1680.8655131369867\n",
      "3289.242710512852 1692.816781750436\n",
      "3296.4134716809217 1709.5485578092648\n",
      "3307.169613433026 1692.816781750436\n",
      "3317.92575518513 1697.5972891958156\n",
      "3331.0721506599243 1707.1583040865748\n",
      "3382.462605697756 1694.0119086117809\n",
      "3401.5846354792748 1702.3777966411953\n",
      "3419.5115383994485 1694.0119086117809\n",
      "2679.728011226943 1679.6703862756417\n",
      "2690.4841529790474 1689.2314011664012\n",
      "2539.8981684495875 1689.2314011664012\n",
      "2517.1907580840343 1690.4265280277461\n",
      "2484.922332827721 1696.4021623344706\n",
      "2468.1905567688923 1689.2314011664012\n",
      "2439.5075120966144 1699.9875429185054\n",
      "3212.754591386777 1683.2557668596767\n",
      "2339.4764219982317 1687.4058630303352\n",
      "2314.3765200712296 1696.5331000946996\n",
      "2289.2766181442275 1689.6876722964264\n",
      "2266.458525483317 1691.9694815625176\n",
      "2252.7676698867704 1696.5331000946996\n",
      "2241.358623556315 1689.6876722964264\n",
      "2220.822340161495 1691.9694815625176\n",
      "2188.87701043622 1694.2512908286085\n",
      "2152.3680621787626 1687.4058630303352\n",
      "2093.0410212603947 1694.2512908286085\n",
      "3448.435725318497 1691.9694815625176\n",
      "3482.662864309863 1696.5331000946996\n",
      "3640.1077036701477 1705.660337159064\n",
      "3674.334842661514 1703.378527892973\n",
      "3788.4253059660678 1705.660337159064\n",
      "3535.144477429958 1703.378527892973\n"
     ]
    }
   ],
   "source": [
    "mask = np.sum((img - np.tile(line_col,(img.shape[0],img.shape[1],1)))**2, axis = 2)\n",
    "mask2 = np.copy(mask)\n",
    "mask2[mask2>0.02] = 0\n",
    "X,Y=np.meshgrid(np.arange(mask2.shape[1]),np.arange(mask2.shape[0]))\n",
    "bb = np.array(boundpts)\n",
    "x0 = np.min(bb[:, 0]) #x\n",
    "y0 = np.max(bb[:, 1]) #y\n",
    "x1 = np.max(bb[:, 0]) #x\n",
    "y1 = np.min(bb[:, 1]) #y\n",
    "roi = np.zeros(mask2.shape)\n",
    "roi[np.where((x0<X) & (y0>Y) & (x1>X) & (y1<Y))[0],np.where((x0<X) & (y0>Y) & (x1>X) & (y1<Y))[1]] = 1\n",
    "plt.figure(1)\n",
    "pts = np.array([np.where(mask2*roi>0)[1],np.where(mask2*roi>0)[0]])\n",
    "plt.plot(pts[0,:], pts[1,:], 'x', color = 'palevioletred')\n",
    "plt.show()"
   ]
  },
  {
   "cell_type": "code",
   "execution_count": 120,
   "id": "84ba9aae",
   "metadata": {},
   "outputs": [
    {
     "name": "stdout",
     "output_type": "stream",
     "text": [
      "2300.685664474683 1164.8715410954778\n"
     ]
    }
   ],
   "source": [
    "#manual correction, erase (space), add (m)\n",
    "if len(pts_manual) > 0: pts = np.hstack((pts,np.array(pts_manual).T))\n",
    "pts = np.vstack((pts[0,:][(pts[0,:]>x0)&(pts[1,:]<y0)],pts[1,:][(pts[0,:]>x0)&(pts[1,:]<y0)]))\n",
    "plt.figure(1)\n",
    "plt.plot(pts[0,:], pts[1,:], 'gx')\n",
    "plt.show()"
   ]
  },
  {
   "cell_type": "code",
   "execution_count": 112,
   "id": "a8880025",
   "metadata": {},
   "outputs": [],
   "source": [
    "#interpolate and save\n",
    "calval = [-40,-20,0.0,0.22]\n",
    "fx = interp1d([calpts[0][0],calpts[1][0]], [calval[0],calval[1]],bounds_error=False, fill_value = 'extrapolate')\n",
    "fy = interp1d([calpts[2][1],calpts[3][1]],[calval[2],calval[3]],bounds_error=False, fill_value = 'extrapolate')\n",
    "data = {}\n",
    "data['x'] = fx(pts[0,:])\n",
    "data['y'] = fy(pts[1,:])\n",
    "np.save(save_name+'.npy',data)"
   ]
  },
  {
   "cell_type": "code",
   "execution_count": 113,
   "id": "c3e9480e",
   "metadata": {},
   "outputs": [
    {
     "data": {
      "text/plain": [
       "[<matplotlib.lines.Line2D at 0x7fa7c9307d30>]"
      ]
     },
     "execution_count": 113,
     "metadata": {},
     "output_type": "execute_result"
    }
   ],
   "source": [
    "plt.figure(3)\n",
    "plt.plot(data['x'],data['y'], 'o')"
   ]
  },
  {
   "cell_type": "code",
   "execution_count": null,
   "id": "4d32ff87",
   "metadata": {},
   "outputs": [],
   "source": []
  }
 ],
 "metadata": {
  "kernelspec": {
   "display_name": "Python 3 (ipykernel)",
   "language": "python",
   "name": "python3"
  },
  "language_info": {
   "codemirror_mode": {
    "name": "ipython",
    "version": 3
   },
   "file_extension": ".py",
   "mimetype": "text/x-python",
   "name": "python",
   "nbconvert_exporter": "python",
   "pygments_lexer": "ipython3",
   "version": "3.10.6"
  }
 },
 "nbformat": 4,
 "nbformat_minor": 5
}
